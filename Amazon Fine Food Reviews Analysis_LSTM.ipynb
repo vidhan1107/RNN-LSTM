{
 "cells": [
  {
   "cell_type": "markdown",
   "metadata": {
    "colab_type": "text",
    "id": "8mYiDgW180YO"
   },
   "source": [
    "# Amazon Fine Food Reviews Analysis\n",
    "\n",
    "\n",
    "Data Source: https://www.kaggle.com/snap/amazon-fine-food-reviews <br>\n",
    "\n",
    "EDA: https://nycdatascience.com/blog/student-works/amazon-fine-foods-visualization/\n",
    "\n",
    "\n",
    "The Amazon Fine Food Reviews dataset consists of reviews of fine foods from Amazon.<br>\n",
    "\n",
    "Number of reviews: 568,454<br>\n",
    "Number of users: 256,059<br>\n",
    "Number of products: 74,258<br>\n",
    "Timespan: Oct 1999 - Oct 2012<br>\n",
    "Number of Attributes/Columns in data: 10 \n",
    "\n",
    "Attribute Information:\n",
    "\n",
    "1. Id\n",
    "2. ProductId - unique identifier for the product\n",
    "3. UserId - unqiue identifier for the user\n",
    "4. ProfileName\n",
    "5. HelpfulnessNumerator - number of users who found the review helpful\n",
    "6. HelpfulnessDenominator - number of users who indicated whether they found the review helpful or not\n",
    "7. Score - rating between 1 and 5\n",
    "8. Time - timestamp for the review\n",
    "9. Summary - brief summary of the review\n",
    "10. Text - text of the review\n",
    "\n",
    "\n",
    "#### Objective:\n",
    "Given a review, determine whether the review is positive (rating of 4 or 5) or negative (rating of 1 or 2).\n",
    "\n",
    "<br>\n",
    "[Q] How to determine if a review is positive or negative?<br>\n",
    "<br> \n",
    "[Ans] We could use Score/Rating. A rating of 4 or 5 can be cosnidered as a positive review. A rating of 1 or 2 can be considered as negative one. A review of rating 3 is considered nuetral and such reviews are ignored from our analysis. This is an approximate and proxy way of determining the polarity (positivity/negativity) of a review.\n",
    "\n",
    "\n"
   ]
  },
  {
   "cell_type": "code",
   "execution_count": 0,
   "metadata": {
    "colab": {},
    "colab_type": "code",
    "id": "PvDdRsHgCAY5"
   },
   "outputs": [],
   "source": [
    "%matplotlib inline\n",
    "import warnings\n",
    "warnings.filterwarnings(\"ignore\")\n",
    "\n",
    "# import sqlite3\n",
    "import pandas as pd\n",
    "import numpy as np\n",
    "import re\n",
    "from tqdm import tqdm"
   ]
  },
  {
   "cell_type": "markdown",
   "metadata": {
    "colab_type": "text",
    "id": "bqirJpK35RAX"
   },
   "source": [
    "### Reading data from Reviews.csv using Google Drive"
   ]
  },
  {
   "cell_type": "code",
   "execution_count": 0,
   "metadata": {
    "colab": {},
    "colab_type": "code",
    "id": "07F6RaU35RAY"
   },
   "outputs": [],
   "source": [
    "# Install the PyDrive wrapper & import libraries.\n",
    "!pip install -U -q PyDrive\n",
    "from pydrive.auth import GoogleAuth\n",
    "from pydrive.drive import GoogleDrive\n",
    "from google.colab import auth\n",
    "from oauth2client.client import GoogleCredentials"
   ]
  },
  {
   "cell_type": "code",
   "execution_count": 0,
   "metadata": {
    "colab": {},
    "colab_type": "code",
    "id": "EfzwvfkW5RAa"
   },
   "outputs": [],
   "source": [
    "# Authenticate and create the PyDrive client\n",
    "auth.authenticate_user()\n",
    "gauth = GoogleAuth()\n",
    "gauth.credentials = GoogleCredentials.get_application_default()\n",
    "drive = GoogleDrive(gauth)"
   ]
  },
  {
   "cell_type": "code",
   "execution_count": 0,
   "metadata": {
    "colab": {},
    "colab_type": "code",
    "id": "_SHJJ5Ft5RAd"
   },
   "outputs": [],
   "source": [
    "# Download a file based on its file ID\n",
    "downloaded = drive.CreateFile({'id':'1lO2D1dVr4jU_jQ7yMLlXdVOJih6sE-g-'})\n",
    "downloaded.GetContentFile('Reviews.csv') "
   ]
  },
  {
   "cell_type": "markdown",
   "metadata": {
    "colab_type": "text",
    "id": "QOI7X2YgCAY_"
   },
   "source": [
    "# [1]. Reading Data"
   ]
  },
  {
   "cell_type": "code",
   "execution_count": 145,
   "metadata": {
    "colab": {
     "base_uri": "https://localhost:8080/",
     "height": 244
    },
    "colab_type": "code",
    "executionInfo": {
     "elapsed": 14985,
     "status": "ok",
     "timestamp": 1557050107002,
     "user": {
      "displayName": "Vidhan Patel",
      "photoUrl": "https://lh4.googleusercontent.com/-qH8aezvNdDI/AAAAAAAAAAI/AAAAAAAACKc/2C9Mu9Lt0is/s64/photo.jpg",
      "userId": "01292717388465131912"
     },
     "user_tz": -330
    },
    "id": "Pq_1_Pai5RAg",
    "outputId": "1cdad957-8648-4a3f-bca5-73c4df007c44"
   },
   "outputs": [
    {
     "name": "stdout",
     "output_type": "stream",
     "text": [
      "Number of data points in our data (100000, 10)\n"
     ]
    },
    {
     "data": {
      "text/html": [
       "<div>\n",
       "<style scoped>\n",
       "    .dataframe tbody tr th:only-of-type {\n",
       "        vertical-align: middle;\n",
       "    }\n",
       "\n",
       "    .dataframe tbody tr th {\n",
       "        vertical-align: top;\n",
       "    }\n",
       "\n",
       "    .dataframe thead th {\n",
       "        text-align: right;\n",
       "    }\n",
       "</style>\n",
       "<table border=\"1\" class=\"dataframe\">\n",
       "  <thead>\n",
       "    <tr style=\"text-align: right;\">\n",
       "      <th></th>\n",
       "      <th>Id</th>\n",
       "      <th>ProductId</th>\n",
       "      <th>UserId</th>\n",
       "      <th>ProfileName</th>\n",
       "      <th>HelpfulnessNumerator</th>\n",
       "      <th>HelpfulnessDenominator</th>\n",
       "      <th>Score</th>\n",
       "      <th>Time</th>\n",
       "      <th>Summary</th>\n",
       "      <th>Text</th>\n",
       "    </tr>\n",
       "  </thead>\n",
       "  <tbody>\n",
       "    <tr>\n",
       "      <th>0</th>\n",
       "      <td>1</td>\n",
       "      <td>B001E4KFG0</td>\n",
       "      <td>A3SGXH7AUHU8GW</td>\n",
       "      <td>delmartian</td>\n",
       "      <td>1</td>\n",
       "      <td>1</td>\n",
       "      <td>1</td>\n",
       "      <td>1303862400</td>\n",
       "      <td>Good Quality Dog Food</td>\n",
       "      <td>I have bought several of the Vitality canned d...</td>\n",
       "    </tr>\n",
       "    <tr>\n",
       "      <th>1</th>\n",
       "      <td>2</td>\n",
       "      <td>B00813GRG4</td>\n",
       "      <td>A1D87F6ZCVE5NK</td>\n",
       "      <td>dll pa</td>\n",
       "      <td>0</td>\n",
       "      <td>0</td>\n",
       "      <td>0</td>\n",
       "      <td>1346976000</td>\n",
       "      <td>Not as Advertised</td>\n",
       "      <td>Product arrived labeled as Jumbo Salted Peanut...</td>\n",
       "    </tr>\n",
       "    <tr>\n",
       "      <th>2</th>\n",
       "      <td>3</td>\n",
       "      <td>B000LQOCH0</td>\n",
       "      <td>ABXLMWJIXXAIN</td>\n",
       "      <td>Natalia Corres \"Natalia Corres\"</td>\n",
       "      <td>1</td>\n",
       "      <td>1</td>\n",
       "      <td>1</td>\n",
       "      <td>1219017600</td>\n",
       "      <td>\"Delight\" says it all</td>\n",
       "      <td>This is a confection that has been around a fe...</td>\n",
       "    </tr>\n",
       "  </tbody>\n",
       "</table>\n",
       "</div>"
      ],
      "text/plain": [
       "   Id   ProductId          UserId                      ProfileName  \\\n",
       "0   1  B001E4KFG0  A3SGXH7AUHU8GW                       delmartian   \n",
       "1   2  B00813GRG4  A1D87F6ZCVE5NK                           dll pa   \n",
       "2   3  B000LQOCH0   ABXLMWJIXXAIN  Natalia Corres \"Natalia Corres\"   \n",
       "\n",
       "   HelpfulnessNumerator  HelpfulnessDenominator  Score        Time  \\\n",
       "0                     1                       1      1  1303862400   \n",
       "1                     0                       0      0  1346976000   \n",
       "2                     1                       1      1  1219017600   \n",
       "\n",
       "                 Summary                                               Text  \n",
       "0  Good Quality Dog Food  I have bought several of the Vitality canned d...  \n",
       "1      Not as Advertised  Product arrived labeled as Jumbo Salted Peanut...  \n",
       "2  \"Delight\" says it all  This is a confection that has been around a fe...  "
      ]
     },
     "execution_count": 145,
     "metadata": {
      "tags": []
     },
     "output_type": "execute_result"
    }
   ],
   "source": [
    "data = pd.read_csv('Reviews.csv')\n",
    "\n",
    "filtered_data = data[data['Score'] != 3]\n",
    "\n",
    "filtered_data = filtered_data.head(100000)\n",
    "\n",
    "#Give reviews with Score>3 a positive rating, and reviews with a score<3 a negative rating.\n",
    "def partition(x):\n",
    "    if x < 3:\n",
    "        return 0\n",
    "    return 1\n",
    "\n",
    "filtered_data['Score'] = filtered_data['Score'].map(partition) \n",
    "print(\"Number of data points in our data\", filtered_data.shape)\n",
    "filtered_data.head(3)"
   ]
  },
  {
   "cell_type": "markdown",
   "metadata": {
    "colab_type": "text",
    "id": "TX5b3dc5CAZS"
   },
   "source": [
    "#  Exploratory Data Analysis\n",
    "\n",
    "## [2] Data Cleaning: Deduplication\n",
    "\n",
    "It is observed (as shown in the table below) that the reviews data had many duplicate entries. Hence it was necessary to remove duplicates in order to get unbiased results for the analysis of the data.  Following is an example:"
   ]
  },
  {
   "cell_type": "code",
   "execution_count": 0,
   "metadata": {
    "colab": {},
    "colab_type": "code",
    "id": "DGy2NM7BCAZX"
   },
   "outputs": [],
   "source": [
    "#Sorting data according to ProductId in ascending order\n",
    "sorted_data=filtered_data.sort_values('ProductId', axis=0, ascending=True, inplace=False, kind='quicksort', na_position='last')"
   ]
  },
  {
   "cell_type": "code",
   "execution_count": 147,
   "metadata": {
    "colab": {
     "base_uri": "https://localhost:8080/",
     "height": 34
    },
    "colab_type": "code",
    "executionInfo": {
     "elapsed": 15350,
     "status": "ok",
     "timestamp": 1557050107396,
     "user": {
      "displayName": "Vidhan Patel",
      "photoUrl": "https://lh4.googleusercontent.com/-qH8aezvNdDI/AAAAAAAAAAI/AAAAAAAACKc/2C9Mu9Lt0is/s64/photo.jpg",
      "userId": "01292717388465131912"
     },
     "user_tz": -330
    },
    "id": "8b-O13XVCAZZ",
    "outputId": "adea8de1-a82b-4463-8ed5-29d9ce007031"
   },
   "outputs": [
    {
     "data": {
      "text/plain": [
       "(87775, 10)"
      ]
     },
     "execution_count": 147,
     "metadata": {
      "tags": []
     },
     "output_type": "execute_result"
    }
   ],
   "source": [
    "#Deduplication of entries\n",
    "final=sorted_data.drop_duplicates(subset={\"UserId\",\"ProfileName\",\"Time\",\"Text\"}, keep='first', inplace=False)\n",
    "final.shape"
   ]
  },
  {
   "cell_type": "code",
   "execution_count": 148,
   "metadata": {
    "colab": {
     "base_uri": "https://localhost:8080/",
     "height": 34
    },
    "colab_type": "code",
    "executionInfo": {
     "elapsed": 15326,
     "status": "ok",
     "timestamp": 1557050107397,
     "user": {
      "displayName": "Vidhan Patel",
      "photoUrl": "https://lh4.googleusercontent.com/-qH8aezvNdDI/AAAAAAAAAAI/AAAAAAAACKc/2C9Mu9Lt0is/s64/photo.jpg",
      "userId": "01292717388465131912"
     },
     "user_tz": -330
    },
    "id": "S72Yh-rHCAZc",
    "outputId": "6517ce66-f75b-4ef6-d60a-164252738857"
   },
   "outputs": [
    {
     "data": {
      "text/plain": [
       "87.775"
      ]
     },
     "execution_count": 148,
     "metadata": {
      "tags": []
     },
     "output_type": "execute_result"
    }
   ],
   "source": [
    "#Checking to see how much % of data still remains\n",
    "(final['Id'].size*1.0)/(filtered_data['Id'].size*1.0)*100"
   ]
  },
  {
   "cell_type": "code",
   "execution_count": 0,
   "metadata": {
    "colab": {},
    "colab_type": "code",
    "id": "8Tphk1piCAZk"
   },
   "outputs": [],
   "source": [
    "final=final[final.HelpfulnessNumerator<=final.HelpfulnessDenominator]"
   ]
  },
  {
   "cell_type": "code",
   "execution_count": 150,
   "metadata": {
    "colab": {
     "base_uri": "https://localhost:8080/",
     "height": 85
    },
    "colab_type": "code",
    "executionInfo": {
     "elapsed": 15270,
     "status": "ok",
     "timestamp": 1557050107401,
     "user": {
      "displayName": "Vidhan Patel",
      "photoUrl": "https://lh4.googleusercontent.com/-qH8aezvNdDI/AAAAAAAAAAI/AAAAAAAACKc/2C9Mu9Lt0is/s64/photo.jpg",
      "userId": "01292717388465131912"
     },
     "user_tz": -330
    },
    "id": "8TpsGDdJCAZm",
    "outputId": "d62c54a1-f8d2-4d61-e3d4-a196252b9503"
   },
   "outputs": [
    {
     "name": "stdout",
     "output_type": "stream",
     "text": [
      "(87773, 10)\n"
     ]
    },
    {
     "data": {
      "text/plain": [
       "1    73592\n",
       "0    14181\n",
       "Name: Score, dtype: int64"
      ]
     },
     "execution_count": 150,
     "metadata": {
      "tags": []
     },
     "output_type": "execute_result"
    }
   ],
   "source": [
    "#Before starting the next phase of preprocessing lets see the number of entries left\n",
    "print(final.shape)\n",
    "\n",
    "#How many positive and negative reviews are present in our dataset?\n",
    "final['Score'].value_counts()"
   ]
  },
  {
   "cell_type": "markdown",
   "metadata": {
    "colab_type": "text",
    "id": "RxBsuBylCAZr"
   },
   "source": [
    "# [3].  Text Preprocessing."
   ]
  },
  {
   "cell_type": "code",
   "execution_count": 0,
   "metadata": {
    "colab": {},
    "colab_type": "code",
    "id": "lNHWbzBaCAZ3"
   },
   "outputs": [],
   "source": [
    "# https://stackoverflow.com/a/47091490/4084039\n",
    "import re\n",
    "\n",
    "def decontracted(phrase):\n",
    "    # specific\n",
    "    phrase = re.sub(r\"won't\", \"will not\", phrase)\n",
    "    phrase = re.sub(r\"can\\'t\", \"can not\", phrase)\n",
    "\n",
    "    # general\n",
    "    phrase = re.sub(r\"n\\'t\", \" not\", phrase)\n",
    "    phrase = re.sub(r\"\\'re\", \" are\", phrase)\n",
    "    phrase = re.sub(r\"\\'s\", \" is\", phrase)\n",
    "    phrase = re.sub(r\"\\'d\", \" would\", phrase)\n",
    "    phrase = re.sub(r\"\\'ll\", \" will\", phrase)\n",
    "    phrase = re.sub(r\"\\'t\", \" not\", phrase)\n",
    "    phrase = re.sub(r\"\\'ve\", \" have\", phrase)\n",
    "    phrase = re.sub(r\"\\'m\", \" am\", phrase)\n",
    "    return phrase"
   ]
  },
  {
   "cell_type": "code",
   "execution_count": 0,
   "metadata": {
    "colab": {},
    "colab_type": "code",
    "id": "Xsr4xHkJCAaA"
   },
   "outputs": [],
   "source": [
    "# https://gist.github.com/sebleier/554280\n",
    "# we are removing the words from the stop words list: 'no', 'nor', 'not'\n",
    "# <br /><br /> ==> after the above steps, we are getting \"br br\"\n",
    "# we are including them into stop words list\n",
    "# instead of <br /> if we have <br/> these tags would have revmoved in the 1st step\n",
    "\n",
    "stopwords= set(['br', 'the', 'i', 'me', 'my', 'myself', 'we', 'our', 'ours', 'ourselves', 'you', \"you're\", \"you've\",\\\n",
    "            \"you'll\", \"you'd\", 'your', 'yours', 'yourself', 'yourselves', 'he', 'him', 'his', 'himself', \\\n",
    "            'she', \"she's\", 'her', 'hers', 'herself', 'it', \"it's\", 'its', 'itself', 'they', 'them', 'their',\\\n",
    "            'theirs', 'themselves', 'what', 'which', 'who', 'whom', 'this', 'that', \"that'll\", 'these', 'those', \\\n",
    "            'am', 'is', 'are', 'was', 'were', 'be', 'been', 'being', 'have', 'has', 'had', 'having', 'do', 'does', \\\n",
    "            'did', 'doing', 'a', 'an', 'the', 'and', 'but', 'if', 'or', 'because', 'as', 'until', 'while', 'of', \\\n",
    "            'at', 'by', 'for', 'with', 'about', 'against', 'between', 'into', 'through', 'during', 'before', 'after',\\\n",
    "            'above', 'below', 'to', 'from', 'up', 'down', 'in', 'out', 'on', 'off', 'over', 'under', 'again', 'further',\\\n",
    "            'then', 'once', 'here', 'there', 'when', 'where', 'why', 'how', 'all', 'any', 'both', 'each', 'few', 'more',\\\n",
    "            'most', 'other', 'some', 'such', 'only', 'own', 'same', 'so', 'than', 'too', 'very', \\\n",
    "            's', 't', 'can', 'will', 'just', 'don', \"don't\", 'should', \"should've\", 'now', 'd', 'll', 'm', 'o', 're', \\\n",
    "            've', 'y', 'ain', 'aren', \"aren't\", 'couldn', \"couldn't\", 'didn', \"didn't\", 'doesn', \"doesn't\", 'hadn',\\\n",
    "            \"hadn't\", 'hasn', \"hasn't\", 'haven', \"haven't\", 'isn', \"isn't\", 'ma', 'mightn', \"mightn't\", 'mustn',\\\n",
    "            \"mustn't\", 'needn', \"needn't\", 'shan', \"shan't\", 'shouldn', \"shouldn't\", 'wasn', \"wasn't\", 'weren', \"weren't\", \\\n",
    "            'won', \"won't\", 'wouldn', \"wouldn't\"])"
   ]
  },
  {
   "cell_type": "code",
   "execution_count": 153,
   "metadata": {
    "colab": {
     "base_uri": "https://localhost:8080/",
     "height": 34
    },
    "colab_type": "code",
    "executionInfo": {
     "elapsed": 36603,
     "status": "ok",
     "timestamp": 1557050128776,
     "user": {
      "displayName": "Vidhan Patel",
      "photoUrl": "https://lh4.googleusercontent.com/-qH8aezvNdDI/AAAAAAAAAAI/AAAAAAAACKc/2C9Mu9Lt0is/s64/photo.jpg",
      "userId": "01292717388465131912"
     },
     "user_tz": -330
    },
    "id": "MgsJ09NpCAaB",
    "outputId": "ad98de2a-e8ed-4529-94db-41ca4527ba36"
   },
   "outputs": [
    {
     "name": "stderr",
     "output_type": "stream",
     "text": [
      "100%|██████████| 87773/87773 [00:21<00:00, 4069.85it/s]\n"
     ]
    }
   ],
   "source": [
    "from tqdm import tqdm\n",
    "from bs4 import BeautifulSoup\n",
    "\n",
    "preprocessed_reviews = []\n",
    "# tqdm is for printing the status bar\n",
    "for sentance in tqdm(final['Text'].values):\n",
    "    sentance = re.sub(r\"http\\S+\", \"\", sentance)\n",
    "    sentance = BeautifulSoup(sentance, 'html.parser').get_text()\n",
    "    sentance = decontracted(sentance)\n",
    "    sentance = re.sub(\"\\S*\\d\\S*\", \"\", sentance).strip()\n",
    "    sentance = re.sub('[^A-Za-z]+', ' ', sentance)\n",
    "    # https://gist.github.com/sebleier/554280\n",
    "    sentance = ' '.join(word.lower() for word in sentance.split() if word.lower() not in stopwords)\n",
    "    preprocessed_reviews.append(sentance.strip())"
   ]
  },
  {
   "cell_type": "code",
   "execution_count": 154,
   "metadata": {
    "colab": {
     "base_uri": "https://localhost:8080/",
     "height": 34
    },
    "colab_type": "code",
    "executionInfo": {
     "elapsed": 36590,
     "status": "ok",
     "timestamp": 1557050128778,
     "user": {
      "displayName": "Vidhan Patel",
      "photoUrl": "https://lh4.googleusercontent.com/-qH8aezvNdDI/AAAAAAAAAAI/AAAAAAAACKc/2C9Mu9Lt0is/s64/photo.jpg",
      "userId": "01292717388465131912"
     },
     "user_tz": -330
    },
    "id": "f_zfwXXWCAaE",
    "outputId": "1a93db9f-5a13-4f4d-e157-f79732244724"
   },
   "outputs": [
    {
     "data": {
      "text/plain": [
       "'way hot blood took bite jig lol'"
      ]
     },
     "execution_count": 154,
     "metadata": {
      "tags": []
     },
     "output_type": "execute_result"
    }
   ],
   "source": [
    "preprocessed_reviews[1500]"
   ]
  },
  {
   "cell_type": "code",
   "execution_count": 0,
   "metadata": {
    "colab": {},
    "colab_type": "code",
    "id": "Gv-M8Rqp5RBL"
   },
   "outputs": [],
   "source": [
    "final['Text'] = preprocessed_reviews"
   ]
  },
  {
   "cell_type": "code",
   "execution_count": 156,
   "metadata": {
    "colab": {
     "base_uri": "https://localhost:8080/",
     "height": 34
    },
    "colab_type": "code",
    "executionInfo": {
     "elapsed": 39186,
     "status": "ok",
     "timestamp": 1557050131395,
     "user": {
      "displayName": "Vidhan Patel",
      "photoUrl": "https://lh4.googleusercontent.com/-qH8aezvNdDI/AAAAAAAAAAI/AAAAAAAACKc/2C9Mu9Lt0is/s64/photo.jpg",
      "userId": "01292717388465131912"
     },
     "user_tz": -330
    },
    "id": "P4k8YUJ35RBP",
    "outputId": "f339dc6d-71c3-46ae-8ba2-1ef75ed57045"
   },
   "outputs": [
    {
     "name": "stdout",
     "output_type": "stream",
     "text": [
      "Length of vocabulory:  55187\n"
     ]
    }
   ],
   "source": [
    "# Create vocabulory of all words in reviews along with there frequency\n",
    "vocabulory = dict()\n",
    "for sent in final['Text'].values:\n",
    "    for word in sent.split():\n",
    "        if word not in vocabulory.keys():\n",
    "            vocabulory[word] = 1\n",
    "        else:\n",
    "            vocabulory[word] += 1\n",
    "            \n",
    "print(\"Length of vocabulory: \", len(vocabulory))"
   ]
  },
  {
   "cell_type": "code",
   "execution_count": 157,
   "metadata": {
    "colab": {
     "base_uri": "https://localhost:8080/",
     "height": 34
    },
    "colab_type": "code",
    "executionInfo": {
     "elapsed": 39175,
     "status": "ok",
     "timestamp": 1557050131396,
     "user": {
      "displayName": "Vidhan Patel",
      "photoUrl": "https://lh4.googleusercontent.com/-qH8aezvNdDI/AAAAAAAAAAI/AAAAAAAACKc/2C9Mu9Lt0is/s64/photo.jpg",
      "userId": "01292717388465131912"
     },
     "user_tz": -330
    },
    "id": "8AIOHyUr5RBV",
    "outputId": "c512e3bc-0c15-4e05-cd71-3453d9a99c6f"
   },
   "outputs": [
    {
     "name": "stdout",
     "output_type": "stream",
     "text": [
      "Top 5 items in sorted vocabulory:  [('not', 93426), ('like', 39002), ('good', 30952), ('one', 26644), ('great', 26451)]\n"
     ]
    }
   ],
   "source": [
    "# Sort vocabulory based on Frequency in descending order (dictionay value)\n",
    "import operator\n",
    "sorted_dict = sorted(vocabulory.items(), key=operator.itemgetter(1), reverse = True)\n",
    "\n",
    "print(\"Top 5 items in sorted vocabulory: \", sorted_dict[:5])"
   ]
  },
  {
   "cell_type": "code",
   "execution_count": 0,
   "metadata": {
    "colab": {},
    "colab_type": "code",
    "id": "HS4C-8K55RBZ"
   },
   "outputs": [],
   "source": [
    "# Give ranking to each word based on frequency (sorted)\n",
    "ranking = dict()\n",
    "rank = 1\n",
    "for i in range(len(sorted_dict)):\n",
    "    key = sorted_dict[i][0]    # Get key from sorted dictionay\n",
    "    ranking[key] = rank        # Assign rank to that key\n",
    "    rank += 1"
   ]
  },
  {
   "cell_type": "code",
   "execution_count": 159,
   "metadata": {
    "colab": {
     "base_uri": "https://localhost:8080/",
     "height": 54
    },
    "colab_type": "code",
    "executionInfo": {
     "elapsed": 40808,
     "status": "ok",
     "timestamp": 1557050133049,
     "user": {
      "displayName": "Vidhan Patel",
      "photoUrl": "https://lh4.googleusercontent.com/-qH8aezvNdDI/AAAAAAAAAAI/AAAAAAAACKc/2C9Mu9Lt0is/s64/photo.jpg",
      "userId": "01292717388465131912"
     },
     "user_tz": -330
    },
    "id": "mzSv5jkC5RBb",
    "outputId": "9b997006-9a2f-47c1-d183-96a944975598"
   },
   "outputs": [
    {
     "name": "stdout",
     "output_type": "stream",
     "text": [
      "Top 2 reviews with Rank:  [[69, 79, 132, 9, 842, 1975, 124, 729, 120, 30, 132, 106, 45, 1163, 4, 3764, 118, 3, 9, 1975, 147, 4564, 2008, 66, 151, 842, 7608], [69, 12, 469, 441, 53, 3537, 3307, 2638, 45, 842, 830, 1104]]\n"
     ]
    }
   ],
   "source": [
    "# Create Reviews with Rank\n",
    "X = []\n",
    "for sent in final['Text'].values:\n",
    "    reviewsWithRank = []\n",
    "    for word in sent.split():\n",
    "        reviewsWithRank.append(ranking[word])\n",
    "    X.append(reviewsWithRank)\n",
    "    \n",
    "print(\"Top 2 reviews with Rank: \", X[:2])"
   ]
  },
  {
   "cell_type": "code",
   "execution_count": 0,
   "metadata": {
    "colab": {},
    "colab_type": "code",
    "id": "yT8cnc-f5RBd"
   },
   "outputs": [],
   "source": [
    "Y = final['Score'].values"
   ]
  },
  {
   "cell_type": "code",
   "execution_count": 161,
   "metadata": {
    "colab": {
     "base_uri": "https://localhost:8080/",
     "height": 51
    },
    "colab_type": "code",
    "executionInfo": {
     "elapsed": 40789,
     "status": "ok",
     "timestamp": 1557050133055,
     "user": {
      "displayName": "Vidhan Patel",
      "photoUrl": "https://lh4.googleusercontent.com/-qH8aezvNdDI/AAAAAAAAAAI/AAAAAAAACKc/2C9Mu9Lt0is/s64/photo.jpg",
      "userId": "01292717388465131912"
     },
     "user_tz": -330
    },
    "id": "Z5St5xVy5RBg",
    "outputId": "a34f1515-bd26-44ac-8f2d-e08626639470"
   },
   "outputs": [
    {
     "name": "stdout",
     "output_type": "stream",
     "text": [
      "Number of training data points:  61441\n",
      "Number of test data points:  26332\n"
     ]
    }
   ],
   "source": [
    "from sklearn.model_selection import train_test_split\n",
    "\n",
    "X_train, X_test, y_train, y_test = train_test_split(X, Y, test_size=0.3) \n",
    "\n",
    "print(\"Number of training data points: \", len(X_train))\n",
    "print(\"Number of test data points: \", len(X_test))"
   ]
  },
  {
   "cell_type": "code",
   "execution_count": 0,
   "metadata": {
    "colab": {},
    "colab_type": "code",
    "id": "rBzEZUOFCG1e"
   },
   "outputs": [],
   "source": [
    "from keras.models import Sequential\n",
    "from keras.layers import LSTM, Dense, Dropout, activations, BatchNormalization\n",
    "from keras.layers.embeddings import Embedding\n",
    "from keras.preprocessing import sequence"
   ]
  },
  {
   "cell_type": "code",
   "execution_count": 165,
   "metadata": {
    "colab": {
     "base_uri": "https://localhost:8080/",
     "height": 187
    },
    "colab_type": "code",
    "executionInfo": {
     "elapsed": 2100,
     "status": "ok",
     "timestamp": 1557050250554,
     "user": {
      "displayName": "Vidhan Patel",
      "photoUrl": "https://lh4.googleusercontent.com/-qH8aezvNdDI/AAAAAAAAAAI/AAAAAAAACKc/2C9Mu9Lt0is/s64/photo.jpg",
      "userId": "01292717388465131912"
     },
     "user_tz": -330
    },
    "id": "yNsvg1-zCw_e",
    "outputId": "0983781f-91a6-4077-d2b8-291594ff2c5e"
   },
   "outputs": [
    {
     "name": "stdout",
     "output_type": "stream",
     "text": [
      "(61441, 100)\n",
      "[    0     0     0     0     0     0     0     0     0     0     0     0\n",
      "     0     0     0     0     0     0     0     0     0     0     0     0\n",
      "     0     0     0     0     0     0     0     0     0     0     0     0\n",
      "     0     0     0     0     0     0     0     0     0     0     0     0\n",
      "     0     0     0     0     0     0    15     8   149 54551  2184   353\n",
      "   451   264   915  4817   161    60  1692    51  1437  1327   142   453\n",
      "     8     1     2   693     8  1152   253   297    33    38  1437  1327\n",
      "   872   266  4094     1    54  1057  2710   201  4736  1356   151   603\n",
      "   451   264  1437  1327]\n"
     ]
    }
   ],
   "source": [
    "# Padding to make all reviews of same length and then can be used in batch\n",
    "max_review_length = 100\n",
    "x_train = sequence.pad_sequences(X_train, maxlen = max_review_length)\n",
    "x_test = sequence.pad_sequences(X_test, maxlen = max_review_length)\n",
    "\n",
    "print(x_train.shape)\n",
    "print(x_train[1])"
   ]
  },
  {
   "cell_type": "code",
   "execution_count": 0,
   "metadata": {
    "colab": {},
    "colab_type": "code",
    "id": "ogNVedLCI665"
   },
   "outputs": [],
   "source": [
    "import matplotlib.pyplot as plt\n",
    "# Plot Training Loss Vs Test Loss\n",
    "def plot_loss(training_loss, validation_loss, epochs):\n",
    "  plt.figure(figsize=(6,6))\n",
    "  plt.plot(epochs, training_loss, 'b', label='Train Loss')\n",
    "  plt.plot(epochs, validation_loss, 'r', label='Validation Loss')\n",
    "  plt.xlabel(\"Epochs\")\n",
    "  plt.ylabel(\"Crossentropy Loss\")\n",
    "  plt.title(\"Crossentropy Loss VS Epochs\")\n",
    "  plt.legend()\n",
    "  plt.grid()\n",
    "  plt.show();"
   ]
  },
  {
   "cell_type": "markdown",
   "metadata": {
    "colab_type": "text",
    "id": "XkrEDwUALdy8"
   },
   "source": [
    "<h3>Model with 1 LSTM Layer"
   ]
  },
  {
   "cell_type": "code",
   "execution_count": 167,
   "metadata": {
    "colab": {
     "base_uri": "https://localhost:8080/",
     "height": 697
    },
    "colab_type": "code",
    "executionInfo": {
     "elapsed": 1139302,
     "status": "ok",
     "timestamp": 1557051505280,
     "user": {
      "displayName": "Vidhan Patel",
      "photoUrl": "https://lh4.googleusercontent.com/-qH8aezvNdDI/AAAAAAAAAAI/AAAAAAAACKc/2C9Mu9Lt0is/s64/photo.jpg",
      "userId": "01292717388465131912"
     },
     "user_tz": -330
    },
    "id": "G24JltIPDmQC",
    "outputId": "b5c3ac04-6bac-46d0-ae1c-32cef0b97939"
   },
   "outputs": [
    {
     "name": "stdout",
     "output_type": "stream",
     "text": [
      "Train on 61441 samples, validate on 26332 samples\n",
      "Epoch 1/10\n",
      "61441/61441 [==============================] - 127s 2ms/step - loss: 0.4786 - acc: 0.7773 - val_loss: 2.0936 - val_acc: 0.8370\n",
      "Epoch 2/10\n",
      "61441/61441 [==============================] - 123s 2ms/step - loss: 0.2472 - acc: 0.9054 - val_loss: 2.4321 - val_acc: 0.8371\n",
      "Epoch 3/10\n",
      "61441/61441 [==============================] - 124s 2ms/step - loss: 0.2022 - acc: 0.9204 - val_loss: 0.2071 - val_acc: 0.9236\n",
      "Epoch 4/10\n",
      "61441/61441 [==============================] - 125s 2ms/step - loss: 0.1750 - acc: 0.9319 - val_loss: 0.4137 - val_acc: 0.8240\n",
      "Epoch 5/10\n",
      "61441/61441 [==============================] - 125s 2ms/step - loss: 0.1551 - acc: 0.9405 - val_loss: 7.0891 - val_acc: 0.1630\n",
      "Epoch 6/10\n",
      "61441/61441 [==============================] - 126s 2ms/step - loss: 0.1436 - acc: 0.9459 - val_loss: 2.0404 - val_acc: 0.8373\n",
      "Epoch 7/10\n",
      "61441/61441 [==============================] - 125s 2ms/step - loss: 0.1306 - acc: 0.9509 - val_loss: 0.9198 - val_acc: 0.8539\n",
      "Epoch 8/10\n",
      "61441/61441 [==============================] - 124s 2ms/step - loss: 0.1203 - acc: 0.9543 - val_loss: 0.5794 - val_acc: 0.8770\n",
      "Epoch 9/10\n",
      "61441/61441 [==============================] - 127s 2ms/step - loss: 0.1139 - acc: 0.9575 - val_loss: 0.2347 - val_acc: 0.9124\n",
      "Epoch 10/10\n",
      "61441/61441 [==============================] - 127s 2ms/step - loss: 0.1080 - acc: 0.9593 - val_loss: 1.9093 - val_acc: 0.8390\n",
      "_________________________________________________________________\n",
      "Layer (type)                 Output Shape              Param #   \n",
      "=================================================================\n",
      "embedding_14 (Embedding)     (None, 100, 32)           1766016   \n",
      "_________________________________________________________________\n",
      "dropout_13 (Dropout)         (None, 100, 32)           0         \n",
      "_________________________________________________________________\n",
      "lstm_12 (LSTM)               (None, 100)               53200     \n",
      "_________________________________________________________________\n",
      "batch_normalization_6 (Batch (None, 100)               400       \n",
      "_________________________________________________________________\n",
      "dropout_14 (Dropout)         (None, 100)               0         \n",
      "_________________________________________________________________\n",
      "dense_12 (Dense)             (None, 1)                 101       \n",
      "=================================================================\n",
      "Total params: 1,819,717\n",
      "Trainable params: 1,819,517\n",
      "Non-trainable params: 200\n",
      "_________________________________________________________________\n"
     ]
    }
   ],
   "source": [
    "embedding_vector_length = 32\n",
    "# Creating the model\n",
    "model = Sequential()\n",
    "\n",
    "# Adding the embedding\n",
    "model.add(Embedding(len(vocabulory)+1, embedding_vector_length, input_length = max_review_length))\n",
    "model.add(Dropout(0.7))\n",
    "\n",
    "# Adding LSTM Layer\n",
    "model.add(LSTM(100))\n",
    "model.add(BatchNormalization())\n",
    "model.add(Dropout(0.6))\n",
    "\n",
    "# Adding Dense Layer\n",
    "model.add(Dense(1, activation='sigmoid'))\n",
    "\n",
    "model.compile(optimizer='adam', loss='binary_crossentropy', metrics =['accuracy'])\n",
    "\n",
    "history_1 = model.fit(x_train, y_train, verbose=1, epochs=10, batch_size=512, validation_data = (x_test, y_test))\n",
    "\n",
    "model.summary()"
   ]
  },
  {
   "cell_type": "code",
   "execution_count": 168,
   "metadata": {
    "colab": {
     "base_uri": "https://localhost:8080/",
     "height": 438
    },
    "colab_type": "code",
    "executionInfo": {
     "elapsed": 15075,
     "status": "ok",
     "timestamp": 1557051520346,
     "user": {
      "displayName": "Vidhan Patel",
      "photoUrl": "https://lh4.googleusercontent.com/-qH8aezvNdDI/AAAAAAAAAAI/AAAAAAAACKc/2C9Mu9Lt0is/s64/photo.jpg",
      "userId": "01292717388465131912"
     },
     "user_tz": -330
    },
    "id": "geciuVHxFvG7",
    "outputId": "ad2a6738-43f1-46d7-fe1c-c4a9e1f8a123"
   },
   "outputs": [
    {
     "name": "stdout",
     "output_type": "stream",
     "text": [
      "Test Loss:  1.9093327126377346\n",
      "Test Accuracy:  0.8390171654351518\n"
     ]
    },
    {
     "data": {
      "image/png": "[encoded data removed]",
      "text/plain": [
       "<Figure size 432x432 with 1 Axes>"
      ]
     },
     "metadata": {
      "tags": []
     },
     "output_type": "display_data"
    }
   ],
   "source": [
    "score = model.evaluate(x_test, y_test, verbose=0)\n",
    "print(\"Test Loss: \", score[0])\n",
    "print(\"Test Accuracy: \", score[1])\n",
    "\n",
    "training_loss = history_1.history['loss']\n",
    "validation_loss = history_1.history['val_loss']\n",
    "\n",
    "model1_train_accuracy = max(history_1.history['acc'])\n",
    "model1_test_accuracy = score[1]\n",
    "\n",
    "epochs = list(range(1,11))\n",
    "\n",
    "plot_loss(training_loss, validation_loss, epochs)\n"
   ]
  },
  {
   "cell_type": "markdown",
   "metadata": {
    "colab_type": "text",
    "id": "h3qu2SAgNAg1"
   },
   "source": [
    "<h3> Model with 2 LSTM"
   ]
  },
  {
   "cell_type": "code",
   "execution_count": 173,
   "metadata": {
    "colab": {
     "base_uri": "https://localhost:8080/",
     "height": 731
    },
    "colab_type": "code",
    "executionInfo": {
     "elapsed": 3535726,
     "status": "ok",
     "timestamp": 1557055872843,
     "user": {
      "displayName": "Vidhan Patel",
      "photoUrl": "https://lh4.googleusercontent.com/-qH8aezvNdDI/AAAAAAAAAAI/AAAAAAAACKc/2C9Mu9Lt0is/s64/photo.jpg",
      "userId": "01292717388465131912"
     },
     "user_tz": -330
    },
    "id": "ykPoS02ENElJ",
    "outputId": "66498ec7-99c4-4145-d124-67e8f84e7635"
   },
   "outputs": [
    {
     "name": "stdout",
     "output_type": "stream",
     "text": [
      "Train on 61441 samples, validate on 26332 samples\n",
      "Epoch 1/10\n",
      "61441/61441 [==============================] - 364s 6ms/step - loss: 0.2917 - acc: 0.8794 - val_loss: 0.3071 - val_acc: 0.8782\n",
      "Epoch 2/10\n",
      "61441/61441 [==============================] - 351s 6ms/step - loss: 0.1793 - acc: 0.9297 - val_loss: 0.2131 - val_acc: 0.9167\n",
      "Epoch 3/10\n",
      "61441/61441 [==============================] - 351s 6ms/step - loss: 0.1464 - acc: 0.9440 - val_loss: 1.5273 - val_acc: 0.4224\n",
      "Epoch 4/10\n",
      "61441/61441 [==============================] - 352s 6ms/step - loss: 0.1241 - acc: 0.9529 - val_loss: 0.2896 - val_acc: 0.9040\n",
      "Epoch 5/10\n",
      "61441/61441 [==============================] - 352s 6ms/step - loss: 0.1076 - acc: 0.9593 - val_loss: 0.2997 - val_acc: 0.9022\n",
      "Epoch 6/10\n",
      "61441/61441 [==============================] - 350s 6ms/step - loss: 0.0930 - acc: 0.9650 - val_loss: 0.2784 - val_acc: 0.8991\n",
      "Epoch 7/10\n",
      "61441/61441 [==============================] - 350s 6ms/step - loss: 0.0831 - acc: 0.9680 - val_loss: 0.4282 - val_acc: 0.8545\n",
      "Epoch 8/10\n",
      "61441/61441 [==============================] - 350s 6ms/step - loss: 0.0759 - acc: 0.9705 - val_loss: 0.3355 - val_acc: 0.9089\n",
      "Epoch 9/10\n",
      "61441/61441 [==============================] - 352s 6ms/step - loss: 0.0672 - acc: 0.9746 - val_loss: 0.3282 - val_acc: 0.9051\n",
      "Epoch 10/10\n",
      "61441/61441 [==============================] - 360s 6ms/step - loss: 0.0627 - acc: 0.9763 - val_loss: 0.4585 - val_acc: 0.8622\n",
      "_________________________________________________________________\n",
      "Layer (type)                 Output Shape              Param #   \n",
      "=================================================================\n",
      "embedding_19 (Embedding)     (None, 100, 32)           1766016   \n",
      "_________________________________________________________________\n",
      "dropout_23 (Dropout)         (None, 100, 32)           0         \n",
      "_________________________________________________________________\n",
      "lstm_21 (LSTM)               (None, 100, 100)          53200     \n",
      "_________________________________________________________________\n",
      "lstm_22 (LSTM)               (None, 100)               80400     \n",
      "_________________________________________________________________\n",
      "batch_normalization_8 (Batch (None, 100)               400       \n",
      "_________________________________________________________________\n",
      "dropout_24 (Dropout)         (None, 100)               0         \n",
      "_________________________________________________________________\n",
      "dense_14 (Dense)             (None, 1)                 101       \n",
      "=================================================================\n",
      "Total params: 1,900,117\n",
      "Trainable params: 1,899,917\n",
      "Non-trainable params: 200\n",
      "_________________________________________________________________\n"
     ]
    }
   ],
   "source": [
    "embedding_vector_length = 32\n",
    "# Creating the model\n",
    "model = Sequential()\n",
    "\n",
    "# Adding the embedding\n",
    "model.add(Embedding(len(vocabulory.keys())+1, embedding_vector_length, input_length = max_review_length))\n",
    "model.add(Dropout(0.5))\n",
    "\n",
    "# Adding LSTM Layer\n",
    "model.add(LSTM(100, return_sequences=True))\n",
    "\n",
    "# Adding LSTM Layer\n",
    "model.add(LSTM(100))\n",
    "model.add(BatchNormalization())\n",
    "model.add(Dropout(0.3))\n",
    "\n",
    "model.add(Dense(1, activation='sigmoid'))\n",
    "\n",
    "model.compile(optimizer='adam', loss='binary_crossentropy', metrics =['accuracy'])\n",
    "\n",
    "history_2 = model.fit(x_train, y_train, verbose=1, epochs=10, batch_size=128, validation_data = (x_test, y_test))\n",
    "\n",
    "model.summary()"
   ]
  },
  {
   "cell_type": "code",
   "execution_count": 174,
   "metadata": {
    "colab": {
     "base_uri": "https://localhost:8080/",
     "height": 438
    },
    "colab_type": "code",
    "executionInfo": {
     "elapsed": 32738,
     "status": "ok",
     "timestamp": 1557055915067,
     "user": {
      "displayName": "Vidhan Patel",
      "photoUrl": "https://lh4.googleusercontent.com/-qH8aezvNdDI/AAAAAAAAAAI/AAAAAAAACKc/2C9Mu9Lt0is/s64/photo.jpg",
      "userId": "01292717388465131912"
     },
     "user_tz": -330
    },
    "id": "X98P1HIvNEq8",
    "outputId": "7e6c877e-a7bb-479c-df44-84ff8693fd26"
   },
   "outputs": [
    {
     "name": "stdout",
     "output_type": "stream",
     "text": [
      "Test Loss:  0.45850718044028643\n",
      "Test Accuracy:  0.8621828953274184\n"
     ]
    },
    {
     "data": {
      "image/png": "[encoded data removed]",
      "text/plain": [
       "<Figure size 432x432 with 1 Axes>"
      ]
     },
     "metadata": {
      "tags": []
     },
     "output_type": "display_data"
    }
   ],
   "source": [
    "score = model.evaluate(x_test, y_test, verbose=0)\n",
    "print(\"Test Loss: \", score[0])\n",
    "print(\"Test Accuracy: \", score[1])\n",
    "\n",
    "training_loss = history_2.history['loss']\n",
    "validation_loss = history_2.history['val_loss']\n",
    "\n",
    "model2_train_accuracy = max(history_2.history['acc'])\n",
    "model2_test_accuracy = score[1]\n",
    "\n",
    "epochs = list(range(1,11))\n",
    "\n",
    "plot_loss(training_loss, validation_loss, epochs)"
   ]
  },
  {
   "cell_type": "markdown",
   "metadata": {
    "colab_type": "text",
    "id": "SzbGAeafNZvB"
   },
   "source": [
    "<h3> Model with 3 LSTM"
   ]
  },
  {
   "cell_type": "code",
   "execution_count": 175,
   "metadata": {
    "colab": {
     "base_uri": "https://localhost:8080/",
     "height": 833
    },
    "colab_type": "code",
    "executionInfo": {
     "elapsed": 3774558,
     "status": "ok",
     "timestamp": 1557059740405,
     "user": {
      "displayName": "Vidhan Patel",
      "photoUrl": "https://lh4.googleusercontent.com/-qH8aezvNdDI/AAAAAAAAAAI/AAAAAAAACKc/2C9Mu9Lt0is/s64/photo.jpg",
      "userId": "01292717388465131912"
     },
     "user_tz": -330
    },
    "id": "J6sUFwJ3Nd4k",
    "outputId": "b1c9eca2-73a5-458b-e038-5956b463cd5a"
   },
   "outputs": [
    {
     "name": "stdout",
     "output_type": "stream",
     "text": [
      "Train on 61441 samples, validate on 26332 samples\n",
      "Epoch 1/10\n",
      "61441/61441 [==============================] - 384s 6ms/step - loss: 0.3550 - acc: 0.8541 - val_loss: 0.2217 - val_acc: 0.9137\n",
      "Epoch 2/10\n",
      "61441/61441 [==============================] - 378s 6ms/step - loss: 0.1948 - acc: 0.9255 - val_loss: 0.8331 - val_acc: 0.8416\n",
      "Epoch 3/10\n",
      "61441/61441 [==============================] - 375s 6ms/step - loss: 0.1559 - acc: 0.9418 - val_loss: 0.2306 - val_acc: 0.9198\n",
      "Epoch 4/10\n",
      "61441/61441 [==============================] - 377s 6ms/step - loss: 0.1317 - acc: 0.9515 - val_loss: 0.2964 - val_acc: 0.9075\n",
      "Epoch 5/10\n",
      "61441/61441 [==============================] - 377s 6ms/step - loss: 0.1142 - acc: 0.9578 - val_loss: 0.2594 - val_acc: 0.9115\n",
      "Epoch 6/10\n",
      "61441/61441 [==============================] - 374s 6ms/step - loss: 0.1002 - acc: 0.9637 - val_loss: 0.2747 - val_acc: 0.9031\n",
      "Epoch 7/10\n",
      "61441/61441 [==============================] - 374s 6ms/step - loss: 0.0904 - acc: 0.9673 - val_loss: 0.2794 - val_acc: 0.9075\n",
      "Epoch 8/10\n",
      "61441/61441 [==============================] - 375s 6ms/step - loss: 0.0845 - acc: 0.9693 - val_loss: 0.3019 - val_acc: 0.9105\n",
      "Epoch 9/10\n",
      "61441/61441 [==============================] - 376s 6ms/step - loss: 0.0738 - acc: 0.9733 - val_loss: 0.3424 - val_acc: 0.9089\n",
      "Epoch 10/10\n",
      "61441/61441 [==============================] - 378s 6ms/step - loss: 0.0658 - acc: 0.9762 - val_loss: 0.6389 - val_acc: 0.8929\n",
      "_________________________________________________________________\n",
      "Layer (type)                 Output Shape              Param #   \n",
      "=================================================================\n",
      "embedding_20 (Embedding)     (None, 100, 32)           1766016   \n",
      "_________________________________________________________________\n",
      "dropout_25 (Dropout)         (None, 100, 32)           0         \n",
      "_________________________________________________________________\n",
      "lstm_23 (LSTM)               (None, 100, 100)          53200     \n",
      "_________________________________________________________________\n",
      "dropout_26 (Dropout)         (None, 100, 100)          0         \n",
      "_________________________________________________________________\n",
      "lstm_24 (LSTM)               (None, 100, 80)           57920     \n",
      "_________________________________________________________________\n",
      "dropout_27 (Dropout)         (None, 100, 80)           0         \n",
      "_________________________________________________________________\n",
      "lstm_25 (LSTM)               (None, 60)                33840     \n",
      "_________________________________________________________________\n",
      "batch_normalization_9 (Batch (None, 60)                240       \n",
      "_________________________________________________________________\n",
      "dropout_28 (Dropout)         (None, 60)                0         \n",
      "_________________________________________________________________\n",
      "dense_15 (Dense)             (None, 1)                 61        \n",
      "=================================================================\n",
      "Total params: 1,911,277\n",
      "Trainable params: 1,911,157\n",
      "Non-trainable params: 120\n",
      "_________________________________________________________________\n"
     ]
    }
   ],
   "source": [
    "embedding_vector_length = 32\n",
    "# Creating the model\n",
    "model = Sequential()\n",
    "\n",
    "# Adding the embedding\n",
    "model.add(Embedding(len(vocabulory)+1, embedding_vector_length, input_length = max_review_length))\n",
    "model.add(Dropout(0.5))\n",
    "\n",
    "# Adding LSTM Layer\n",
    "model.add(LSTM(100, return_sequences=True))\n",
    "model.add(Dropout(0.5))\n",
    "\n",
    "# Adding LSTM Layer\n",
    "model.add(LSTM(80, return_sequences=True))\n",
    "model.add(Dropout(0.3))\n",
    "\n",
    "# Adding LSTM Layer\n",
    "model.add(LSTM(60))\n",
    "model.add(BatchNormalization())\n",
    "model.add(Dropout(0.5))\n",
    "\n",
    "model.add(Dense(1, activation='sigmoid'))\n",
    "\n",
    "model.compile(optimizer='adam', loss='binary_crossentropy', metrics =['accuracy'])\n",
    "\n",
    "history_3 = model.fit(x_train, y_train, verbose=1, epochs=10, batch_size=256, validation_data = (x_test, y_test))\n",
    "\n",
    "model.summary()"
   ]
  },
  {
   "cell_type": "code",
   "execution_count": 176,
   "metadata": {
    "colab": {
     "base_uri": "https://localhost:8080/",
     "height": 438
    },
    "colab_type": "code",
    "executionInfo": {
     "elapsed": 41821,
     "status": "ok",
     "timestamp": 1557059807261,
     "user": {
      "displayName": "Vidhan Patel",
      "photoUrl": "https://lh4.googleusercontent.com/-qH8aezvNdDI/AAAAAAAAAAI/AAAAAAAACKc/2C9Mu9Lt0is/s64/photo.jpg",
      "userId": "01292717388465131912"
     },
     "user_tz": -330
    },
    "id": "ZW4duayxNd7o",
    "outputId": "3098cbbd-92bc-4c65-c961-9b6e884e58d3"
   },
   "outputs": [
    {
     "name": "stdout",
     "output_type": "stream",
     "text": [
      "Test Loss:  0.6388203802451708\n",
      "Test Accuracy:  0.8929059699134734\n"
     ]
    },
    {
     "data": {
      "image/png": "[encoded data removed]",
      "text/plain": [
       "<Figure size 432x432 with 1 Axes>"
      ]
     },
     "metadata": {
      "tags": []
     },
     "output_type": "display_data"
    }
   ],
   "source": [
    "score = model.evaluate(x_test, y_test, verbose=0)\n",
    "print(\"Test Loss: \", score[0])\n",
    "print(\"Test Accuracy: \", score[1])\n",
    "\n",
    "training_loss = history_3.history['loss']\n",
    "validation_loss = history_3.history['val_loss']\n",
    "\n",
    "model3_train_accuracy = max(history_3.history['acc'])\n",
    "model3_test_accuracy = score[1]\n",
    "\n",
    "epochs = list(range(1,11))\n",
    "\n",
    "plot_loss(training_loss, validation_loss, epochs)"
   ]
  },
  {
   "cell_type": "markdown",
   "metadata": {
    "colab_type": "text",
    "id": "eSG04JuBAmFJ"
   },
   "source": [
    "<h3>CONCLUSION</h3>"
   ]
  },
  {
   "cell_type": "markdown",
   "metadata": {
    "colab_type": "text",
    "id": "ZUxnGJhSAsoQ"
   },
   "source": [
    "**(a). Procedure Followed :**\n",
    " \n",
    "1.   Loaded Amazon food review dataset from Google Drive and selected 1 lakh records for analysis\n",
    "2.   Perform text preprocessing\n",
    "3.   Find vocabulory and frequency for each word  in dataset\n",
    "4.   Ranked each word based on frequency\n",
    "5.   Split the dataset for training and test\n",
    "6.   Applied padding to make all reviews of same size i.e. 100\n",
    "7.   Implemented LSTM with layers 1 , 2 and 3\n",
    "8.   Plotted Crossentropy Loss VS No.of Epochs\n"
   ]
  },
  {
   "cell_type": "code",
   "execution_count": 182,
   "metadata": {
    "colab": {
     "base_uri": "https://localhost:8080/",
     "height": 136
    },
    "colab_type": "code",
    "executionInfo": {
     "elapsed": 1002,
     "status": "ok",
     "timestamp": 1557060617260,
     "user": {
      "displayName": "Vidhan Patel",
      "photoUrl": "https://lh4.googleusercontent.com/-qH8aezvNdDI/AAAAAAAAAAI/AAAAAAAACKc/2C9Mu9Lt0is/s64/photo.jpg",
      "userId": "01292717388465131912"
     },
     "user_tz": -330
    },
    "id": "ujpTpl14BW2J",
    "outputId": "b5f1560d-dce2-4756-eb88-da1f5e47a6c5"
   },
   "outputs": [
    {
     "name": "stdout",
     "output_type": "stream",
     "text": [
      "+--------+-------------------+--------------------+--------------------+\n",
      "| S. No. |       Models      | Training Accuracy  |   Test Accuracy    |\n",
      "+--------+-------------------+--------------------+--------------------+\n",
      "|   1    | Model with 1 LSTM | 0.9592942823196237 | 0.8390171654351518 |\n",
      "|   2    | Model with 2 LSTM | 0.9762861932585732 | 0.8621828953274184 |\n",
      "|   3    | Model with 3 LSTM | 0.976204814374766  | 0.8929059699134734 |\n",
      "+--------+-------------------+--------------------+--------------------+\n"
     ]
    }
   ],
   "source": [
    "from prettytable import PrettyTable\n",
    "table = PrettyTable()\n",
    "table.add_column(\"S. No.\", [1,2,3])\n",
    "table.add_column(\"Models\", [\"Model with 1 LSTM\", \"Model with 2 LSTM\", \"Model with 3 LSTM\"])\n",
    "table.add_column(\"Training Accuracy\", [model1_train_accuracy, model2_train_accuracy, model3_train_accuracy])\n",
    "table.add_column(\"Test Accuracy\", [model1_test_accuracy, model2_test_accuracy, model3_test_accuracy])\n",
    "print(table)"
   ]
  }
 ],
 "metadata": {
  "colab": {
   "collapsed_sections": [],
   "name": "Assignment 14 - Amazon Fine Food Reviews Analysis_LSTM.ipynb",
   "provenance": [],
   "version": "0.3.2"
  },
  "kernelspec": {
   "display_name": "Python 3",
   "language": "python",
   "name": "python3"
  },
  "language_info": {
   "codemirror_mode": {
    "name": "ipython",
    "version": 3
   },
   "file_extension": ".py",
   "mimetype": "text/x-python",
   "name": "python",
   "nbconvert_exporter": "python",
   "pygments_lexer": "ipython3",
   "version": "3.7.0"
  }
 },
 "nbformat": 4,
 "nbformat_minor": 1
}
